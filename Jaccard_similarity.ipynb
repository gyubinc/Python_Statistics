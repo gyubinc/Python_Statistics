{
 "cells": [
  {
   "cell_type": "code",
   "execution_count": 1,
   "metadata": {},
   "outputs": [
    {
     "data": {
      "text/plain": [
       "[JXY + JYZ - 1]"
      ]
     },
     "execution_count": 1,
     "metadata": {},
     "output_type": "execute_result"
    }
   ],
   "source": [
    "from sympy import symbols, Eq, solve\n",
    "\n",
    "\n",
    "J = symbols('J')\n",
    "\n",
    "def Jaccard_distance(JXY, JXZ, JYZ):\n",
    "    # Jaccard distance between two sets X and Y\n",
    "    dXY = 1 - JXY\n",
    "    # Jaccard distance between two sets X and Z\n",
    "    dXZ = 1 - JXZ\n",
    "    # Jaccard distance between two sets Y and Z\n",
    "    dYZ = 1 - JYZ\n",
    "    return (dXY, dXZ, dYZ)\n",
    "\n",
    "# Now we will try to establish the inequality for the triangle inequality\n",
    "# We need to prove: d(X, Z) ≤ d(X, Y) + d(Y, Z)\n",
    "\n",
    "# Assume Jaccard similarities for combinations (X,Y), (X,Z), and (Y,Z)\n",
    "JXY, JXZ, JYZ = symbols('JXY JXZ JYZ')\n",
    "\n",
    "# Calculate Jaccard distances based on the similarities\n",
    "dXY, dXZ, dYZ = Jaccard_distance(JXY, JXZ, JYZ)\n",
    "\n",
    "# Establish the inequality for the triangle inequality\n",
    "triangle_ineq = Eq(dXZ, dXY + dYZ)\n",
    "\n",
    "# Solve the inequality\n",
    "# Since we're dealing with inequalities, the sympy.solve function will not be directly applicable.\n",
    "# We need to rearrange the inequality to see if we can solve for a condition that must be true.\n",
    "# Rearrange the inequality: d(X, Z) ≤ d(X, Y) + d(Y, Z)\n",
    "# becomes: J(X, Z) ≥ J(X, Y) + J(Y, Z) - 1\n",
    "\n",
    "inequality = Eq(JXZ, JXY + JYZ - 1)\n",
    "\n",
    "# Attempt to solve the inequality\n",
    "# Note: sympy's solvers are primarily for equations, not inequalities, but we can try to solve for a condition.\n",
    "\n",
    "try:\n",
    "    solution = solve(inequality, JXZ)\n",
    "except NotImplementedError:\n",
    "    solution = \"Inequality solving not implemented.\"\n",
    "\n",
    "solution\n"
   ]
  }
 ],
 "metadata": {
  "kernelspec": {
   "display_name": "gyubin",
   "language": "python",
   "name": "python3"
  },
  "language_info": {
   "codemirror_mode": {
    "name": "ipython",
    "version": 3
   },
   "file_extension": ".py",
   "mimetype": "text/x-python",
   "name": "python",
   "nbconvert_exporter": "python",
   "pygments_lexer": "ipython3",
   "version": "undefined.undefined.undefined"
  }
 },
 "nbformat": 4,
 "nbformat_minor": 2
}
